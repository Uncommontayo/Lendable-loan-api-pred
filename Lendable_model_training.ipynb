{
  "nbformat": 4,
  "nbformat_minor": 0,
  "metadata": {
    "colab": {
      "provenance": []
    },
    "kernelspec": {
      "name": "python3",
      "display_name": "Python 3"
    },
    "language_info": {
      "name": "python"
    }
  },
  "cells": [
    {
      "cell_type": "markdown",
      "source": [
        "## **Data Preprocessing**"
      ],
      "metadata": {
        "id": "ZKqNW8NYrfHU"
      }
    },
    {
      "cell_type": "code",
      "source": [
        "# Install required libraries\n",
        "# !pip install fastapi nest-asyncio uvicorn joblib xgboost scikit-learn pandas requests pyngrok"
      ],
      "metadata": {
        "id": "GquQZnwUsEaF"
      },
      "execution_count": 1,
      "outputs": []
    },
    {
      "cell_type": "code",
      "source": [
        "import pandas as pd\n",
        "from sklearn.preprocessing import LabelEncoder\n",
        "from sklearn.model_selection import train_test_split"
      ],
      "metadata": {
        "id": "q6xj7KorsA8K"
      },
      "execution_count": 2,
      "outputs": []
    },
    {
      "cell_type": "code",
      "source": [
        "import pandas as pd\n",
        "from sklearn.preprocessing import LabelEncoder\n",
        "\n",
        "def load_data(app_file, cred_file):\n",
        "    \"\"\"\n",
        "    Loads application & credit data, merges them, and handles missing values.\n",
        "    \"\"\"\n",
        "    try:\n",
        "        # Load datasets\n",
        "        appsamp_df = pd.read_csv(app_file)\n",
        "        credfeat_df = pd.read_csv(cred_file)\n",
        "\n",
        "        # Merge datasets on UID\n",
        "        df = pd.merge(appsamp_df, credfeat_df, on=\"UID\", how=\"left\")\n",
        "\n",
        "        # Encode categorical column (EmploymentType)\n",
        "        df[\"EmploymentType\"] = LabelEncoder().fit_transform(df[\"EmploymentType\"])\n",
        "\n",
        "        # Replace missing values with median\n",
        "        df.fillna(df.median(), inplace=True)\n",
        "\n",
        "        # Define features & target\n",
        "        X = df.drop(columns=[\"UID\", \"Success\"])  # Features\n",
        "        y = df[\"Success\"]  # Target variable\n",
        "\n",
        "        print(\"Data Preprocessing Completed!\")\n",
        "        return X, y\n",
        "    except Exception as e:\n",
        "        print(f\"Data Loading Error: {e}\")\n",
        "        return None, None\n",
        "\n",
        "# Call function\n",
        "X, y = load_data(\"application_samples.csv\", \"credit_features.csv\")"
      ],
      "metadata": {
        "colab": {
          "base_uri": "https://localhost:8080/"
        },
        "id": "K3MuNB0e6sze",
        "outputId": "ecc531c7-dbff-47e1-fe53-b41e9cee6a57"
      },
      "execution_count": 3,
      "outputs": [
        {
          "output_type": "stream",
          "name": "stdout",
          "text": [
            "Data Preprocessing Completed!\n"
          ]
        }
      ]
    },
    {
      "cell_type": "markdown",
      "source": [
        "### **Model Training & Evaluation**"
      ],
      "metadata": {
        "id": "hmnEDNQ5wZJT"
      }
    },
    {
      "cell_type": "code",
      "source": [
        "# Train XGBoost Model\n",
        "import xgboost as xgb\n",
        "import joblib\n",
        "from sklearn.model_selection import train_test_split\n",
        "from sklearn.metrics import accuracy_score, precision_score, recall_score, f1_score, roc_auc_score"
      ],
      "metadata": {
        "id": "xXbcHRvi9-mw"
      },
      "execution_count": 4,
      "outputs": []
    },
    {
      "cell_type": "code",
      "source": [
        "def train_model(X, y, model_filename=\"loan_success_model.joblib\"):\n",
        "    \"\"\"\n",
        "    Trains an XGBoost classifier and saves the model.\n",
        "    \"\"\"\n",
        "    try:\n",
        "        # Split data into training & testing sets\n",
        "        X_train, X_test, y_train, y_test = train_test_split(X, y, test_size=0.3, stratify=y, random_state=42)\n",
        "\n",
        "        # Train XGBoost model\n",
        "        model = xgb.XGBClassifier(objective=\"binary:logistic\", eval_metric=\"auc\")\n",
        "        model.fit(X_train, y_train)\n",
        "\n",
        "        # Save trained model\n",
        "        joblib.dump(model, model_filename)\n",
        "        print(f\"Model trained and saved as {model_filename}\")\n",
        "\n",
        "        return model, X_test, y_test\n",
        "    except Exception as e:\n",
        "        print(f\"Model Training Error: {e}\")\n",
        "        return None, None, None\n",
        "\n",
        "# Train and save model\n",
        "model, X_test, y_test = train_model(X, y)"
      ],
      "metadata": {
        "colab": {
          "base_uri": "https://localhost:8080/"
        },
        "id": "ZMe9J2NL_d7v",
        "outputId": "2ac7ca91-99d9-4b12-93fd-f7bdabf07bbe"
      },
      "execution_count": 5,
      "outputs": [
        {
          "output_type": "stream",
          "name": "stdout",
          "text": [
            "Model trained and saved as loan_success_model.joblib\n"
          ]
        }
      ]
    },
    {
      "cell_type": "code",
      "source": [
        "# Evaluating Model Performance\n",
        "def evaluate_model(model, X_test, y_test):\n",
        "    \"\"\"\n",
        "    Evaluates the model and prints performance metrics.\n",
        "    \"\"\"\n",
        "    try:\n",
        "        y_pred = model.predict(X_test)\n",
        "        y_prob = model.predict_proba(X_test)[:, 1]\n",
        "\n",
        "        metrics = {\n",
        "            \"Accuracy\": accuracy_score(y_test, y_pred),\n",
        "            \"Precision\": precision_score(y_test, y_pred),\n",
        "            \"Recall\": recall_score(y_test, y_pred),\n",
        "            \"F1-Score\": f1_score(y_test, y_pred),\n",
        "            \"AUC-ROC\": roc_auc_score(y_test, y_prob),\n",
        "        }\n",
        "\n",
        "        print(\"Model Evaluation Metrics:\", metrics)\n",
        "        return metrics\n",
        "    except Exception as e:\n",
        "        print(f\"Model Evaluation Error: {e}\")\n",
        "        return None\n",
        "\n",
        "# Evaluate model\n",
        "evaluate_model(model, X_test, y_test)\n"
      ],
      "metadata": {
        "colab": {
          "base_uri": "https://localhost:8080/"
        },
        "id": "maDJZTVWwm2A",
        "outputId": "e00ea322-6553-4958-e7d6-d17566a28808"
      },
      "execution_count": 6,
      "outputs": [
        {
          "output_type": "stream",
          "name": "stdout",
          "text": [
            "Model Evaluation Metrics: {'Accuracy': 0.8967984934086629, 'Precision': 0.5089820359281437, 'Recall': 0.30685920577617326, 'F1-Score': 0.38288288288288286, 'AUC-ROC': 0.8515528930964649}\n"
          ]
        },
        {
          "output_type": "execute_result",
          "data": {
            "text/plain": [
              "{'Accuracy': 0.8967984934086629,\n",
              " 'Precision': 0.5089820359281437,\n",
              " 'Recall': 0.30685920577617326,\n",
              " 'F1-Score': 0.38288288288288286,\n",
              " 'AUC-ROC': 0.8515528930964649}"
            ]
          },
          "metadata": {},
          "execution_count": 6
        }
      ]
    },
    {
      "cell_type": "markdown",
      "source": [
        "### **Model Inferencing**"
      ],
      "metadata": {
        "id": "U5u_TGpuw24H"
      }
    },
    {
      "cell_type": "code",
      "source": [
        "# Deploying FastAPI\n",
        "import uvicorn\n",
        "import requests\n",
        "import threading\n",
        "import time\n",
        "import pandas as pd\n",
        "import joblib\n",
        "import os\n",
        "from pyngrok import ngrok\n",
        "from pyngrok.exception import PyngrokNgrokError\n",
        "from fastapi import FastAPI\n",
        "from pydantic import BaseModel\n",
        "import nest_asyncio\n",
        "from fastapi import FastAPI"
      ],
      "metadata": {
        "id": "VlOFhZWww0t0"
      },
      "execution_count": 7,
      "outputs": []
    },
    {
      "cell_type": "code",
      "source": [
        "nest_asyncio.apply()\n",
        "\n",
        "app = FastAPI()\n",
        "\n",
        "# Load trained model\n",
        "model = joblib.load(\"loan_success_model.joblib\")"
      ],
      "metadata": {
        "id": "w-uY-rX7AM2U"
      },
      "execution_count": 8,
      "outputs": []
    },
    {
      "cell_type": "code",
      "source": [
        "# Authenticate Ngrok\n",
        "from google.colab import userdata\n",
        "\n",
        "NGROK_AUTHTOKEN = userdata.get(\"NGROK_AUTHTOKEN\")\n",
        "\n",
        "if NGROK_AUTHTOKEN:\n",
        "    ngrok.set_auth_token(NGROK_AUTHTOKEN)\n",
        "    print(\"Ngrok authentication successful!\")\n",
        "else:\n",
        "    print(\"Ngrok authtoken not found! Set it in Colab secrets.\")\n",
        "\n",
        "#Load Trained Model\n",
        "try:\n",
        "    model = joblib.load(\"loan_success_model.joblib\")\n",
        "    print(\"Model loaded successfully!\")\n",
        "except Exception as e:\n",
        "    print(f\"Error loading model: {e}\")\n",
        "    model = None"
      ],
      "metadata": {
        "id": "343lJUGBBV1-",
        "colab": {
          "base_uri": "https://localhost:8080/"
        },
        "outputId": "d2a0fb7a-47e2-4f0a-eda0-378265af4c89"
      },
      "execution_count": 9,
      "outputs": [
        {
          "output_type": "stream",
          "name": "stdout",
          "text": [
            "Ngrok authentication successful!\n",
            "Model loaded successfully!\n"
          ]
        }
      ]
    },
    {
      "cell_type": "code",
      "source": [
        "# Define Pydantic Model for Request Validation\n",
        "class LoanApplicationData(BaseModel):\n",
        "    Amount: float\n",
        "    Term: float\n",
        "    EmploymentType: float\n",
        "    ALL_AgeOfOldestAccount: float\n",
        "    ALL_AgeOfYoungestAccount: float\n",
        "    ALL_Count: float\n",
        "    ALL_CountActive: float\n",
        "    ALL_CountClosedLast12Months: float\n",
        "    ALL_CountDefaultAccounts: float\n",
        "    ALL_CountOpenedLast12Months: float\n",
        "    ALL_CountSettled: float\n",
        "    ALL_MeanAccountAge: float\n",
        "    ALL_SumCurrentOutstandingBal: float\n",
        "    ALL_SumCurrentOutstandingBalExcMtg: float\n",
        "    ALL_TimeSinceMostRecentDefault: float\n",
        "    ALL_WorstPaymentStatusActiveAccounts: float\n",
        "\n",
        "# Define API Endpoint With Prediction\n",
        "@app.post(\"/predict/\")\n",
        "def predict(data: LoanApplicationData):\n",
        "    \"\"\"Predicts loan application success using the trained model.\"\"\"\n",
        "    if model is None:\n",
        "        return {\"error\": \"Model not loaded\"}\n",
        "\n",
        "    try:\n",
        "        df = pd.DataFrame([data.model_dump()])  # Convert Pydantic model to DataFrame\n",
        "        prediction = model.predict(df)\n",
        "        return {\"prediction\": int(prediction[0])}  # Return prediction as integer\n",
        "    except Exception as e:\n",
        "        return {\"error\": str(e)}"
      ],
      "metadata": {
        "id": "pteeDzum_vq7"
      },
      "execution_count": 10,
      "outputs": []
    },
    {
      "cell_type": "markdown",
      "source": [
        "## **FastAPI Inference**"
      ],
      "metadata": {
        "id": "msNX53q9xE__"
      }
    },
    {
      "cell_type": "code",
      "source": [
        "# Start FastAPI Server in a Background Thread\n",
        "def run_api():\n",
        "    \"\"\"Starts FastAPI with Uvicorn in a separate thread\"\"\"\n",
        "    uvicorn.run(app, host=\"0.0.0.0\", port=8000, log_level=\"info\")\n",
        "\n",
        "thread = threading.Thread(target=run_api, daemon=True)\n",
        "thread.start()\n",
        "\n",
        "# Give server time to start\n",
        "time.sleep(3)\n",
        "print(\"FastAPI server started successfully!\")\n",
        "\n",
        "# Kill Existing Ngrok Process Before Creating a New One\n",
        "def kill_ngrok():\n",
        "    \"\"\"Terminates any existing Ngrok processes to prevent conflicts\"\"\"\n",
        "    try:\n",
        "        os.system(\"pkill -f ngrok\")  # Kill all running Ngrok instances\n",
        "        time.sleep(2)  # Allow some time for cleanup\n",
        "        print(\"Existing Ngrok processes killed.\")\n",
        "    except Exception as e:\n",
        "        print(f\"Error killing Ngrok processes: {e}\")"
      ],
      "metadata": {
        "colab": {
          "base_uri": "https://localhost:8080/"
        },
        "id": "ygz7tSjvtfkp",
        "outputId": "ffbcdc0d-7642-4b20-85e4-8d22b93afe15"
      },
      "execution_count": 11,
      "outputs": [
        {
          "output_type": "stream",
          "name": "stderr",
          "text": [
            "INFO:     Started server process [53632]\n",
            "INFO:     Waiting for application startup.\n",
            "INFO:     Application startup complete.\n",
            "INFO:     Uvicorn running on http://0.0.0.0:8000 (Press CTRL+C to quit)\n"
          ]
        },
        {
          "output_type": "stream",
          "name": "stdout",
          "text": [
            "FastAPI server started successfully!\n"
          ]
        }
      ]
    },
    {
      "cell_type": "code",
      "source": [
        "# Start Ngrok and Retrieve Public URL\n",
        "def get_ngrok_url():\n",
        "    \"\"\"Starts Ngrok if not running and retrieves public URL\"\"\"\n",
        "    try:\n",
        "        kill_ngrok()  # Ensure no duplicate tunnels\n",
        "        public_url = ngrok.connect(8000)  # Start a new tunnel\n",
        "        print(f\"Ngrok Tunnel Created: {public_url}\")\n",
        "        return public_url\n",
        "    except PyngrokNgrokError as e:\n",
        "        print(f\"Error creating Ngrok tunnel: {e}\")\n",
        "        print(\"Ensure Ngrok authentication is correct and no tunnel limit exceeded.\")\n",
        "        return None\n",
        "\n",
        "# Retrieve or create Ngrok URL\n",
        "ngrok_url = get_ngrok_url()"
      ],
      "metadata": {
        "colab": {
          "base_uri": "https://localhost:8080/"
        },
        "id": "pJRVNbD4ATC7",
        "outputId": "f25157c0-1948-4a39-e519-4da47f2e0386"
      },
      "execution_count": 12,
      "outputs": [
        {
          "output_type": "stream",
          "name": "stdout",
          "text": [
            "Existing Ngrok processes killed.\n",
            "Ngrok Tunnel Created: NgrokTunnel: \"https://7b32-34-106-92-233.ngrok-free.app\" -> \"http://localhost:8000\"\n"
          ]
        }
      ]
    },
    {
      "cell_type": "code",
      "source": [
        "# Send a Test Request to Verify API with Prediction\n",
        "data = {\n",
        "    \"Amount\": 7000, \"Term\": 48, \"EmploymentType\": 1,\n",
        "    \"ALL_AgeOfOldestAccount\": 199, \"ALL_AgeOfYoungestAccount\": 4,\n",
        "    \"ALL_Count\": 11, \"ALL_CountActive\": 8, \"ALL_CountClosedLast12Months\": 0,\n",
        "    \"ALL_CountDefaultAccounts\": 0, \"ALL_CountOpenedLast12Months\": 3,\n",
        "    \"ALL_CountSettled\": 3, \"ALL_MeanAccountAge\": 69.73,\n",
        "    \"ALL_SumCurrentOutstandingBal\": 124050, \"ALL_SumCurrentOutstandingBalExcMtg\": 1186,\n",
        "    \"ALL_TimeSinceMostRecentDefault\": -1, \"ALL_WorstPaymentStatusActiveAccounts\": 0\n",
        "}\n",
        "\n",
        "if ngrok_url:\n",
        "    # Extract public URL as a string\n",
        "    api_url = f\"{ngrok_url.public_url}/predict/\"  # Use public_url attribute\n",
        "    response = requests.post(api_url, json=data)\n",
        "    print(\"API Response:\", response.json())  # Now returns model prediction\n",
        "else:\n",
        "    print(\"Ngrok URL not available, cannot send request!\")"
      ],
      "metadata": {
        "colab": {
          "base_uri": "https://localhost:8080/"
        },
        "id": "DYkiaa5vsRZs",
        "outputId": "d8f5321f-8ec8-4462-edfd-fdb1c13ef7bc"
      },
      "execution_count": 13,
      "outputs": [
        {
          "output_type": "stream",
          "name": "stdout",
          "text": [
            "INFO:     34.106.92.233:0 - \"POST /predict/ HTTP/1.1\" 200 OK\n",
            "API Response: {'prediction': 1}\n"
          ]
        }
      ]
    },
    {
      "cell_type": "code",
      "source": [],
      "metadata": {
        "id": "s9zHMDY4oiip"
      },
      "execution_count": 13,
      "outputs": []
    }
  ]
}